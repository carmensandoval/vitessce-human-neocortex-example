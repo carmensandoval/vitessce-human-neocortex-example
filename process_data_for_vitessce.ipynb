{
 "cells": [
  {
   "cell_type": "code",
   "execution_count": 33,
   "metadata": {},
   "outputs": [],
   "source": [
    "import os\n",
    "import json\n",
    "from urllib.parse import quote_plus\n",
    "from os.path import join\n",
    "from anndata import AnnData\n",
    "import scanpy as sc\n",
    "import pandas as pd\n",
    "import numpy as np\n",
    "import boto3\n",
    "\n",
    "from vitessce import (\n",
    "    VitessceWidget,\n",
    "    VitessceConfig,\n",
    "    Component as cm,\n",
    "    CoordinationType as ct,\n",
    "    AnnDataWrapper,\n",
    ")"
   ]
  },
  {
   "cell_type": "markdown",
   "metadata": {},
   "source": [
    "## Load the data"
   ]
  },
  {
   "cell_type": "code",
   "execution_count": 81,
   "metadata": {},
   "outputs": [],
   "source": [
    "df = pd.read_csv(join(\"data\", \"CellByFeature_Matrix.csv\"), index_col=0)"
   ]
  },
  {
   "cell_type": "code",
   "execution_count": 82,
   "metadata": {},
   "outputs": [
    {
     "data": {
      "text/html": [
       "<div>\n",
       "<style scoped>\n",
       "    .dataframe tbody tr th:only-of-type {\n",
       "        vertical-align: middle;\n",
       "    }\n",
       "\n",
       "    .dataframe tbody tr th {\n",
       "        vertical-align: top;\n",
       "    }\n",
       "\n",
       "    .dataframe thead th {\n",
       "        text-align: right;\n",
       "    }\n",
       "</style>\n",
       "<table border=\"1\" class=\"dataframe\">\n",
       "  <thead>\n",
       "    <tr style=\"text-align: right;\">\n",
       "      <th></th>\n",
       "      <th>Nucleus location (X)</th>\n",
       "      <th>Nucleus location (Y)</th>\n",
       "      <th>Nucleus perimeter</th>\n",
       "      <th>EOMES</th>\n",
       "      <th>POLR2A</th>\n",
       "      <th>SOX2</th>\n",
       "      <th>DLX6</th>\n",
       "      <th>SATB2</th>\n",
       "      <th>BCL11B</th>\n",
       "      <th>CPLX3</th>\n",
       "      <th>...</th>\n",
       "      <th>TUBA4A</th>\n",
       "      <th>NR2F1</th>\n",
       "      <th>NEFL</th>\n",
       "      <th>NR4A2</th>\n",
       "      <th>CBLN2</th>\n",
       "      <th>MEF2E</th>\n",
       "      <th>PPP1R1B</th>\n",
       "      <th>RUNX1T1</th>\n",
       "      <th>LPL</th>\n",
       "      <th>GABRA5</th>\n",
       "    </tr>\n",
       "    <tr>\n",
       "      <th>Cell No.</th>\n",
       "      <th></th>\n",
       "      <th></th>\n",
       "      <th></th>\n",
       "      <th></th>\n",
       "      <th></th>\n",
       "      <th></th>\n",
       "      <th></th>\n",
       "      <th></th>\n",
       "      <th></th>\n",
       "      <th></th>\n",
       "      <th></th>\n",
       "      <th></th>\n",
       "      <th></th>\n",
       "      <th></th>\n",
       "      <th></th>\n",
       "      <th></th>\n",
       "      <th></th>\n",
       "      <th></th>\n",
       "      <th></th>\n",
       "      <th></th>\n",
       "      <th></th>\n",
       "    </tr>\n",
       "  </thead>\n",
       "  <tbody>\n",
       "    <tr>\n",
       "      <th>1</th>\n",
       "      <td>5115</td>\n",
       "      <td>2287</td>\n",
       "      <td>142.1</td>\n",
       "      <td>0</td>\n",
       "      <td>2</td>\n",
       "      <td>3</td>\n",
       "      <td>0</td>\n",
       "      <td>2</td>\n",
       "      <td>2</td>\n",
       "      <td>0</td>\n",
       "      <td>...</td>\n",
       "      <td>0</td>\n",
       "      <td>0</td>\n",
       "      <td>2</td>\n",
       "      <td>0</td>\n",
       "      <td>0</td>\n",
       "      <td>2</td>\n",
       "      <td>1</td>\n",
       "      <td>0</td>\n",
       "      <td>0</td>\n",
       "      <td>0</td>\n",
       "    </tr>\n",
       "    <tr>\n",
       "      <th>2</th>\n",
       "      <td>5330</td>\n",
       "      <td>1764</td>\n",
       "      <td>376.3</td>\n",
       "      <td>1</td>\n",
       "      <td>1</td>\n",
       "      <td>3</td>\n",
       "      <td>0</td>\n",
       "      <td>0</td>\n",
       "      <td>0</td>\n",
       "      <td>0</td>\n",
       "      <td>...</td>\n",
       "      <td>0</td>\n",
       "      <td>0</td>\n",
       "      <td>0</td>\n",
       "      <td>0</td>\n",
       "      <td>0</td>\n",
       "      <td>0</td>\n",
       "      <td>0</td>\n",
       "      <td>0</td>\n",
       "      <td>0</td>\n",
       "      <td>0</td>\n",
       "    </tr>\n",
       "    <tr>\n",
       "      <th>3</th>\n",
       "      <td>4168</td>\n",
       "      <td>3771</td>\n",
       "      <td>111.3</td>\n",
       "      <td>0</td>\n",
       "      <td>1</td>\n",
       "      <td>1</td>\n",
       "      <td>3</td>\n",
       "      <td>5</td>\n",
       "      <td>0</td>\n",
       "      <td>0</td>\n",
       "      <td>...</td>\n",
       "      <td>0</td>\n",
       "      <td>0</td>\n",
       "      <td>0</td>\n",
       "      <td>0</td>\n",
       "      <td>0</td>\n",
       "      <td>0</td>\n",
       "      <td>0</td>\n",
       "      <td>0</td>\n",
       "      <td>0</td>\n",
       "      <td>1</td>\n",
       "    </tr>\n",
       "    <tr>\n",
       "      <th>4</th>\n",
       "      <td>3738</td>\n",
       "      <td>3051</td>\n",
       "      <td>387.0</td>\n",
       "      <td>1</td>\n",
       "      <td>6</td>\n",
       "      <td>7</td>\n",
       "      <td>0</td>\n",
       "      <td>1</td>\n",
       "      <td>0</td>\n",
       "      <td>0</td>\n",
       "      <td>...</td>\n",
       "      <td>0</td>\n",
       "      <td>0</td>\n",
       "      <td>0</td>\n",
       "      <td>0</td>\n",
       "      <td>0</td>\n",
       "      <td>0</td>\n",
       "      <td>0</td>\n",
       "      <td>0</td>\n",
       "      <td>0</td>\n",
       "      <td>0</td>\n",
       "    </tr>\n",
       "    <tr>\n",
       "      <th>5</th>\n",
       "      <td>5447</td>\n",
       "      <td>2056</td>\n",
       "      <td>191.3</td>\n",
       "      <td>0</td>\n",
       "      <td>0</td>\n",
       "      <td>0</td>\n",
       "      <td>1</td>\n",
       "      <td>0</td>\n",
       "      <td>0</td>\n",
       "      <td>0</td>\n",
       "      <td>...</td>\n",
       "      <td>0</td>\n",
       "      <td>0</td>\n",
       "      <td>0</td>\n",
       "      <td>0</td>\n",
       "      <td>0</td>\n",
       "      <td>0</td>\n",
       "      <td>0</td>\n",
       "      <td>0</td>\n",
       "      <td>0</td>\n",
       "      <td>1</td>\n",
       "    </tr>\n",
       "  </tbody>\n",
       "</table>\n",
       "<p>5 rows × 30 columns</p>\n",
       "</div>"
      ],
      "text/plain": [
       "          Nucleus location (X)  Nucleus location (Y)  Nucleus perimeter  \\\n",
       "Cell No.                                                                  \n",
       "1                         5115                  2287              142.1   \n",
       "2                         5330                  1764              376.3   \n",
       "3                         4168                  3771              111.3   \n",
       "4                         3738                  3051              387.0   \n",
       "5                         5447                  2056              191.3   \n",
       "\n",
       "          EOMES  POLR2A  SOX2  DLX6  SATB2  BCL11B  CPLX3  ...  TUBA4A  NR2F1  \\\n",
       "Cell No.                                                   ...                  \n",
       "1             0       2     3     0      2       2      0  ...       0      0   \n",
       "2             1       1     3     0      0       0      0  ...       0      0   \n",
       "3             0       1     1     3      5       0      0  ...       0      0   \n",
       "4             1       6     7     0      1       0      0  ...       0      0   \n",
       "5             0       0     0     1      0       0      0  ...       0      0   \n",
       "\n",
       "          NEFL  NR4A2  CBLN2  MEF2E  PPP1R1B  RUNX1T1  LPL  GABRA5  \n",
       "Cell No.                                                            \n",
       "1            2      0      0      2        1        0    0       0  \n",
       "2            0      0      0      0        0        0    0       0  \n",
       "3            0      0      0      0        0        0    0       1  \n",
       "4            0      0      0      0        0        0    0       0  \n",
       "5            0      0      0      0        0        0    0       1  \n",
       "\n",
       "[5 rows x 30 columns]"
      ]
     },
     "execution_count": 82,
     "metadata": {},
     "output_type": "execute_result"
    }
   ],
   "source": [
    "df.head()"
   ]
  },
  {
   "cell_type": "markdown",
   "metadata": {},
   "source": [
    "## Put the data in an AnnData object"
   ]
  },
  {
   "cell_type": "code",
   "execution_count": 93,
   "metadata": {},
   "outputs": [],
   "source": [
    "X = df[df.columns.values.tolist()[3:]].values"
   ]
  },
  {
   "cell_type": "code",
   "execution_count": 84,
   "metadata": {},
   "outputs": [],
   "source": [
    "X_spatial = df[[\"Nucleus location (X)\", \"Nucleus location (Y)\"]].values.astype('uint16')"
   ]
  },
  {
   "cell_type": "code",
   "execution_count": 85,
   "metadata": {},
   "outputs": [
    {
     "name": "stderr",
     "output_type": "stream",
     "text": [
      "/Users/mkeller/anaconda3/envs/vitessce-human-neocortex-env/lib/python3.8/site-packages/anndata/_core/anndata.py:119: ImplicitModificationWarning: Transforming to str index.\n",
      "  warnings.warn(\"Transforming to str index.\", ImplicitModificationWarning)\n"
     ]
    }
   ],
   "source": [
    "obs = pd.DataFrame(index=df.index.values.tolist())\n",
    "var = pd.DataFrame(index=df.columns.values.tolist()[3:])\n",
    "adata = AnnData(X=X, obs=obs, var=var, obsm={ \"X_spatial\": X_spatial })"
   ]
  },
  {
   "cell_type": "markdown",
   "metadata": {},
   "source": [
    "## Optionally, process the data\n",
    "\n",
    "Here you may want to run dimensionality reduction or clustering methods with ScanPy."
   ]
  },
  {
   "cell_type": "code",
   "execution_count": 86,
   "metadata": {},
   "outputs": [
    {
     "name": "stderr",
     "output_type": "stream",
     "text": [
      "WARNING: Some cells have total count of genes equal to zero\n"
     ]
    }
   ],
   "source": [
    "sc.pp.normalize_total(adata)\n",
    "sc.pp.log1p(adata)"
   ]
  },
  {
   "cell_type": "code",
   "execution_count": 87,
   "metadata": {},
   "outputs": [
    {
     "name": "stderr",
     "output_type": "stream",
     "text": [
      "WARNING: Consider installing the package MulticoreTSNE (https://github.com/DmitryUlyanov/Multicore-TSNE). Even for n_jobs=1 this speeds up the computation considerably and might yield better converged results.\n"
     ]
    }
   ],
   "source": [
    "sc.tl.tsne(adata)"
   ]
  },
  {
   "cell_type": "code",
   "execution_count": 88,
   "metadata": {},
   "outputs": [],
   "source": [
    "adata.obs.index = adata.obs.index.astype(str)"
   ]
  },
  {
   "cell_type": "markdown",
   "metadata": {},
   "source": [
    "## Create a Vitessce configuration\n",
    "\n",
    "For more details about how to use the `vitessce` Python package please visit the documentation at https://vitessce.github.io/vitessce-python/."
   ]
  },
  {
   "cell_type": "code",
   "execution_count": 92,
   "metadata": {},
   "outputs": [],
   "source": [
    "vc = VitessceConfig(\"Developing human neocortex\")\n",
    "dataset = vc.add_dataset(\"Gestational week 20\").add_object(\n",
    "    AnnDataWrapper(\n",
    "        adata,\n",
    "        mappings_obsm=[\"X_tsne\"],\n",
    "        mappings_obsm_names=[\"t-SNE\"],\n",
    "        expression_matrix=\"X\",\n",
    "        spatial_centroid_obsm=\"X_spatial\"\n",
    "    )\n",
    ")\n",
    "spatial_plot = vc.add_view(dataset, cm.SPATIAL)\n",
    "tsne_plot = vc.add_view(dataset, cm.SCATTERPLOT, mapping=\"t-SNE\")\n",
    "heatmap = vc.add_view(dataset, cm.HEATMAP)\n",
    "genes_list = vc.add_view(dataset, cm.GENES)\n",
    "vc.layout((spatial_plot | tsne_plot) / (heatmap | genes_list));"
   ]
  },
  {
   "cell_type": "markdown",
   "metadata": {},
   "source": [
    "## Export the files\n",
    "\n",
    "The above `add_object()` function converts the AnnData data structure into a [Zarr](https://zarr.readthedocs.io/en/stable/) store that is compatible with Vitessce.\n",
    "We want to save these converted files to the `data` directory."
   ]
  },
  {
   "cell_type": "code",
   "execution_count": 97,
   "metadata": {},
   "outputs": [],
   "source": [
    "LOCAL_BASE_URL = 'http://localhost:3000'"
   ]
  },
  {
   "cell_type": "code",
   "execution_count": 98,
   "metadata": {},
   "outputs": [],
   "source": [
    "config_dict = vc.export(to='files', base_url=LOCAL_BASE_URL, out_dir='data')"
   ]
  },
  {
   "cell_type": "markdown",
   "metadata": {},
   "source": [
    "We also want to save the Vitessce configuration to a file."
   ]
  },
  {
   "cell_type": "code",
   "execution_count": 95,
   "metadata": {},
   "outputs": [],
   "source": [
    "with open(join(\"data\", \"vitessce_config.json\"), \"w\") as f:\n",
    "    json.dump(config_dict, f)"
   ]
  },
  {
   "cell_type": "markdown",
   "metadata": {},
   "source": [
    "## Start the local web server\n",
    "\n",
    "We can use Vitessce with local files by running a local web server.\n",
    "\n",
    "\n",
    "In a terminal, `cd` into the `data` directory.\n",
    "\n",
    "Then, run `http-server` on port 3000 with this terminal command:\n",
    "```sh\n",
    "http-server ./ --cors -p 3000\n",
    "```"
   ]
  },
  {
   "cell_type": "code",
   "execution_count": 100,
   "metadata": {},
   "outputs": [
    {
     "name": "stdout",
     "output_type": "stream",
     "text": [
      "http://vitessce.io/?url=http://localhost:3000/vitessce_config.json\n"
     ]
    }
   ],
   "source": [
    "vitessce_url = f\"http://vitessce.io/?url={LOCAL_BASE_URL}/vitessce_config.json\"\n",
    "print(vitessce_url)"
   ]
  },
  {
   "cell_type": "markdown",
   "metadata": {},
   "source": [
    "After running the notebook cell above, a link to `vitessce.io` will appear. While the local HTTP server is running and serving the exported files in the `data` directory, you can open this link in a web browser to view the Vitessce visualization."
   ]
  },
  {
   "cell_type": "markdown",
   "metadata": {},
   "source": [
    "If you would like to make this visualization public on the web, you can copy the files in `data` to a cloud storage provider such as AWS S3, Google Cloud Storage, or GitHub Pages: http://beta.vitessce.io/docs/data-hosting/."
   ]
  },
  {
   "cell_type": "markdown",
   "metadata": {},
   "source": [
    "## Upload data to an existing AWS S3 bucket"
   ]
  },
  {
   "cell_type": "markdown",
   "metadata": {},
   "source": [
    "To store your data in an AWS S3 bucket, make sure the bucket permissions and CORS settings match those here: https://github.com/vitessce/vitessce/blob/keller-mark/docs/docs/docs/data-hosting.md#bucket-policy"
   ]
  },
  {
   "cell_type": "code",
   "execution_count": 123,
   "metadata": {},
   "outputs": [],
   "source": [
    "BUCKET_NAME = \"my_bucket\" # Replace with your bucket name\n",
    "BUCKET_PREFIX = \"gestational_week_20\" # Replace with a file path prefix you would like to use for each dataset"
   ]
  },
  {
   "cell_type": "markdown",
   "metadata": {},
   "source": [
    "In a terminal, set the environment variables for the AWS S3 bucket:\n",
    "\n",
    "```sh\n",
    "export AWS_ACCESS_KEY_ID=my_access_key_id\n",
    "export AWS_SECRET_ACCESS_KEY=my_secret_access_key\n",
    "export AWS_DEFAULT_REGION=us-east-1\n",
    "```\n",
    "\n",
    "Note: these environment variables need to be set in the terminal before starting JupyterLab with the `jupyter lab` terminal command. (So you may need to exit the notebook, run these 3 lines, and then start the notebook again by running `jupyter lab`)"
   ]
  },
  {
   "cell_type": "code",
   "execution_count": 124,
   "metadata": {},
   "outputs": [
    {
     "ename": "KeyError",
     "evalue": "'AWS_ACCESS_KEY_ID'",
     "output_type": "error",
     "traceback": [
      "\u001b[0;31m---------------------------------------------------------------------------\u001b[0m",
      "\u001b[0;31mKeyError\u001b[0m                                  Traceback (most recent call last)",
      "\u001b[0;32m<ipython-input-124-639e7d939fe6>\u001b[0m in \u001b[0;36m<module>\u001b[0;34m\u001b[0m\n\u001b[1;32m      1\u001b[0m s3 = boto3.resource(\n\u001b[1;32m      2\u001b[0m     \u001b[0mservice_name\u001b[0m\u001b[0;34m=\u001b[0m\u001b[0;34m's3'\u001b[0m\u001b[0;34m,\u001b[0m\u001b[0;34m\u001b[0m\u001b[0;34m\u001b[0m\u001b[0m\n\u001b[0;32m----> 3\u001b[0;31m     \u001b[0maws_access_key_id\u001b[0m\u001b[0;34m=\u001b[0m\u001b[0mos\u001b[0m\u001b[0;34m.\u001b[0m\u001b[0menviron\u001b[0m\u001b[0;34m[\u001b[0m\u001b[0;34m'AWS_ACCESS_KEY_ID'\u001b[0m\u001b[0;34m]\u001b[0m\u001b[0;34m,\u001b[0m\u001b[0;34m\u001b[0m\u001b[0;34m\u001b[0m\u001b[0m\n\u001b[0m\u001b[1;32m      4\u001b[0m     \u001b[0maws_secret_access_key\u001b[0m\u001b[0;34m=\u001b[0m\u001b[0mos\u001b[0m\u001b[0;34m.\u001b[0m\u001b[0menviron\u001b[0m\u001b[0;34m[\u001b[0m\u001b[0;34m'AWS_SECRET_ACCESS_KEY'\u001b[0m\u001b[0;34m]\u001b[0m\u001b[0;34m,\u001b[0m\u001b[0;34m\u001b[0m\u001b[0;34m\u001b[0m\u001b[0m\n\u001b[1;32m      5\u001b[0m )\n",
      "\u001b[0;32m~/anaconda3/envs/vitessce-human-neocortex-env/lib/python3.8/os.py\u001b[0m in \u001b[0;36m__getitem__\u001b[0;34m(self, key)\u001b[0m\n\u001b[1;32m    673\u001b[0m         \u001b[0;32mexcept\u001b[0m \u001b[0mKeyError\u001b[0m\u001b[0;34m:\u001b[0m\u001b[0;34m\u001b[0m\u001b[0;34m\u001b[0m\u001b[0m\n\u001b[1;32m    674\u001b[0m             \u001b[0;31m# raise KeyError with the original key value\u001b[0m\u001b[0;34m\u001b[0m\u001b[0;34m\u001b[0m\u001b[0;34m\u001b[0m\u001b[0m\n\u001b[0;32m--> 675\u001b[0;31m             \u001b[0;32mraise\u001b[0m \u001b[0mKeyError\u001b[0m\u001b[0;34m(\u001b[0m\u001b[0mkey\u001b[0m\u001b[0;34m)\u001b[0m \u001b[0;32mfrom\u001b[0m \u001b[0;32mNone\u001b[0m\u001b[0;34m\u001b[0m\u001b[0;34m\u001b[0m\u001b[0m\n\u001b[0m\u001b[1;32m    676\u001b[0m         \u001b[0;32mreturn\u001b[0m \u001b[0mself\u001b[0m\u001b[0;34m.\u001b[0m\u001b[0mdecodevalue\u001b[0m\u001b[0;34m(\u001b[0m\u001b[0mvalue\u001b[0m\u001b[0;34m)\u001b[0m\u001b[0;34m\u001b[0m\u001b[0;34m\u001b[0m\u001b[0m\n\u001b[1;32m    677\u001b[0m \u001b[0;34m\u001b[0m\u001b[0m\n",
      "\u001b[0;31mKeyError\u001b[0m: 'AWS_ACCESS_KEY_ID'"
     ]
    }
   ],
   "source": [
    "s3 = boto3.resource(\n",
    "    service_name='s3',\n",
    "    aws_access_key_id=os.environ['AWS_ACCESS_KEY_ID'],\n",
    "    aws_secret_access_key=os.environ['AWS_SECRET_ACCESS_KEY'],\n",
    ")"
   ]
  },
  {
   "cell_type": "markdown",
   "metadata": {},
   "source": [
    "The following two lines upload both the converted data files and the Vitessce configuration JSON file to the S3 bucket."
   ]
  },
  {
   "cell_type": "code",
   "execution_count": 118,
   "metadata": {},
   "outputs": [
    {
     "name": "stdout",
     "output_type": "stream",
     "text": [
      "Uploading vitessce-export-examples:gestational_week_20/A/0\n"
     ]
    }
   ],
   "source": [
    "config_dict = vc.export(to='S3', s3=s3, bucket_name=BUCKET_NAME, prefix=BUCKET_PREFIX)"
   ]
  },
  {
   "cell_type": "code",
   "execution_count": 119,
   "metadata": {},
   "outputs": [
    {
     "data": {
      "text/plain": [
       "s3.Object(bucket_name='vitessce-export-examples', key='gestational_week_20/vitessce_config.json')"
      ]
     },
     "execution_count": 119,
     "metadata": {},
     "output_type": "execute_result"
    }
   ],
   "source": [
    "s3.Bucket(BUCKET_NAME).put_object(Key=f\"{BUCKET_PREFIX}/vitessce_config.json\", Body=json.dumps(config_dict).encode())"
   ]
  },
  {
   "cell_type": "code",
   "execution_count": 120,
   "metadata": {},
   "outputs": [],
   "source": [
    "S3_BASE_URL = base_url = f\"https://{BUCKET_NAME}.s3.amazonaws.com/{BUCKET_PREFIX}\""
   ]
  },
  {
   "cell_type": "code",
   "execution_count": 121,
   "metadata": {},
   "outputs": [
    {
     "name": "stdout",
     "output_type": "stream",
     "text": [
      "http://vitessce.io/?url=https://vitessce-export-examples.s3.amazonaws.com/gestational_week_20/vitessce_config.json\n"
     ]
    }
   ],
   "source": [
    "vitessce_url = f\"http://vitessce.io/?url={S3_BASE_URL}/vitessce_config.json\"\n",
    "print(vitessce_url)"
   ]
  },
  {
   "cell_type": "markdown",
   "metadata": {},
   "source": [
    "The Vitessce URL above can be shared with others since the converted Vitessce-compatible data files are stored in the AWS S3 bucket which is public on the web. The visualizations should look the same as when you tested them with the local server above."
   ]
  },
  {
   "cell_type": "code",
   "execution_count": null,
   "metadata": {},
   "outputs": [],
   "source": []
  }
 ],
 "metadata": {
  "kernelspec": {
   "display_name": "Python 3",
   "language": "python",
   "name": "python3"
  },
  "language_info": {
   "codemirror_mode": {
    "name": "ipython",
    "version": 3
   },
   "file_extension": ".py",
   "mimetype": "text/x-python",
   "name": "python",
   "nbconvert_exporter": "python",
   "pygments_lexer": "ipython3",
   "version": "3.8.8"
  }
 },
 "nbformat": 4,
 "nbformat_minor": 4
}
